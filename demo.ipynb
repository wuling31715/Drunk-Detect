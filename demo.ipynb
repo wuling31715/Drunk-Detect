{
 "cells": [
  {
   "cell_type": "code",
   "execution_count": 1,
   "metadata": {},
   "outputs": [],
   "source": [
    "%matplotlib inline\n",
    "import matplotlib.pyplot as plt\n",
    "import numpy as np\n",
    "import pandas as pd"
   ]
  },
  {
   "cell_type": "code",
   "execution_count": 2,
   "metadata": {},
   "outputs": [],
   "source": [
    "def read_data(drunkfile, normalfile):\n",
    "    drunk = pd.read_csv(drunkfile)\n",
    "    normal = pd.read_csv(normalfile)\n",
    "    data = pd.concat([drunk, normal])\n",
    "    ans_list = [1] * len(drunk) + [0] * len(normal)\n",
    "    return np.array(data[['smile','anger','contempt','disgust','fear','happiness','neutral','sadness','surprise','eyeOccluded']].values), np.array(ans_list)"
   ]
  },
  {
   "cell_type": "code",
   "execution_count": 3,
   "metadata": {},
   "outputs": [
    {
     "name": "stdout",
     "output_type": "stream",
     "text": [
      "(1323, 10)\n",
      "(1323,)\n"
     ]
    }
   ],
   "source": [
    "x_data, y_data = read_data(\"model/drunk.csv\", \"model/normal.csv\")\n",
    "print(x_data.shape)\n",
    "print(y_data.shape)"
   ]
  },
  {
   "cell_type": "code",
   "execution_count": 4,
   "metadata": {},
   "outputs": [],
   "source": [
    "x_data[x_data == True] = 1\n",
    "x_data[x_data == False] = 0"
   ]
  },
  {
   "cell_type": "code",
   "execution_count": 5,
   "metadata": {},
   "outputs": [],
   "source": [
    "from sklearn.utils import shuffle\n",
    "(x_data, y_data) = shuffle(x_data, y_data)"
   ]
  },
  {
   "cell_type": "code",
   "execution_count": 6,
   "metadata": {},
   "outputs": [
    {
     "name": "stdout",
     "output_type": "stream",
     "text": [
      "(992, 10)\n",
      "(331, 10)\n",
      "(992,)\n",
      "(331,)\n"
     ]
    }
   ],
   "source": [
    "from sklearn.model_selection import train_test_split\n",
    "x_train, x_test, y_train, y_test = train_test_split(x_data, y_data)\n",
    "print(x_train.shape)\n",
    "print(x_test.shape)\n",
    "print(y_train.shape)\n",
    "print(y_test.shape)"
   ]
  },
  {
   "cell_type": "code",
   "execution_count": 7,
   "metadata": {
    "scrolled": false
   },
   "outputs": [
    {
     "name": "stderr",
     "output_type": "stream",
     "text": [
      "Using TensorFlow backend.\n"
     ]
    },
    {
     "name": "stdout",
     "output_type": "stream",
     "text": [
      "_________________________________________________________________\n",
      "Layer (type)                 Output Shape              Param #   \n",
      "=================================================================\n",
      "dense_1 (Dense)              (None, 10)                110       \n",
      "_________________________________________________________________\n",
      "dropout_1 (Dropout)          (None, 10)                0         \n",
      "_________________________________________________________________\n",
      "dense_2 (Dense)              (None, 64)                704       \n",
      "_________________________________________________________________\n",
      "dropout_2 (Dropout)          (None, 64)                0         \n",
      "_________________________________________________________________\n",
      "dense_3 (Dense)              (None, 8)                 520       \n",
      "_________________________________________________________________\n",
      "dropout_3 (Dropout)          (None, 8)                 0         \n",
      "_________________________________________________________________\n",
      "dense_4 (Dense)              (None, 1)                 9         \n",
      "=================================================================\n",
      "Total params: 1,343\n",
      "Trainable params: 1,343\n",
      "Non-trainable params: 0\n",
      "_________________________________________________________________\n"
     ]
    }
   ],
   "source": [
    "from keras.models import Sequential\n",
    "from keras.layers import Dense, Activation, Dropout\n",
    "model = Sequential()\n",
    "model.add(Dense(input_dim = x_train.shape[1], units = 10, activation = 'relu'))\n",
    "model.add(Dropout(0.25))\n",
    "model.add(Dense(units = 64, activation = 'relu'))\n",
    "model.add(Dropout(0.25))\n",
    "model.add(Dense(units = 8, activation = 'relu'))\n",
    "model.add(Dropout(0.25))\n",
    "model.add(Dense(units = 1, activation = 'sigmoid'))\n",
    "model.summary()"
   ]
  },
  {
   "cell_type": "code",
   "execution_count": 8,
   "metadata": {},
   "outputs": [],
   "source": [
    "from keras.utils.vis_utils import plot_model\n",
    "plot_model(model, to_file='model_plot.png', show_shapes=True, show_layer_names=True)"
   ]
  },
  {
   "cell_type": "code",
   "execution_count": 9,
   "metadata": {},
   "outputs": [
    {
     "name": "stdout",
     "output_type": "stream",
     "text": [
      "Train on 793 samples, validate on 199 samples\n",
      "Epoch 1/50\n",
      "793/793 [==============================] - 2s 2ms/step - loss: 0.6485 - acc: 0.6583 - val_loss: 0.6609 - val_acc: 0.5930\n",
      "Epoch 2/50\n",
      "793/793 [==============================] - 0s 589us/step - loss: 0.6153 - acc: 0.6671 - val_loss: 0.6635 - val_acc: 0.5930\n",
      "Epoch 3/50\n",
      "793/793 [==============================] - 0s 471us/step - loss: 0.6067 - acc: 0.6671 - val_loss: 0.6568 - val_acc: 0.5930\n",
      "Epoch 4/50\n",
      "793/793 [==============================] - 0s 446us/step - loss: 0.5985 - acc: 0.6747 - val_loss: 0.6454 - val_acc: 0.6382\n",
      "Epoch 5/50\n",
      "793/793 [==============================] - 0s 455us/step - loss: 0.5862 - acc: 0.7188 - val_loss: 0.6354 - val_acc: 0.6533\n",
      "Epoch 6/50\n",
      "793/793 [==============================] - 0s 491us/step - loss: 0.5687 - acc: 0.7276 - val_loss: 0.6163 - val_acc: 0.7035\n",
      "Epoch 7/50\n",
      "793/793 [==============================] - 0s 478us/step - loss: 0.5482 - acc: 0.7364 - val_loss: 0.5976 - val_acc: 0.7136\n",
      "Epoch 8/50\n",
      "793/793 [==============================] - 0s 425us/step - loss: 0.5198 - acc: 0.7680 - val_loss: 0.5865 - val_acc: 0.7085\n",
      "Epoch 9/50\n",
      "793/793 [==============================] - 0s 507us/step - loss: 0.5132 - acc: 0.7881 - val_loss: 0.5827 - val_acc: 0.7236\n",
      "Epoch 10/50\n",
      "793/793 [==============================] - 0s 516us/step - loss: 0.5060 - acc: 0.7629 - val_loss: 0.5742 - val_acc: 0.7286\n",
      "Epoch 11/50\n",
      "793/793 [==============================] - 0s 441us/step - loss: 0.5255 - acc: 0.7768 - val_loss: 0.5698 - val_acc: 0.7286\n",
      "Epoch 12/50\n",
      "793/793 [==============================] - 0s 536us/step - loss: 0.5035 - acc: 0.7881 - val_loss: 0.5637 - val_acc: 0.7387\n",
      "Epoch 13/50\n",
      "793/793 [==============================] - 0s 550us/step - loss: 0.5196 - acc: 0.7718 - val_loss: 0.5633 - val_acc: 0.7487\n",
      "Epoch 14/50\n",
      "793/793 [==============================] - 0s 464us/step - loss: 0.4843 - acc: 0.7945 - val_loss: 0.5590 - val_acc: 0.7387\n",
      "Epoch 15/50\n",
      "793/793 [==============================] - 0s 415us/step - loss: 0.4701 - acc: 0.7957 - val_loss: 0.5891 - val_acc: 0.7186\n",
      "Epoch 16/50\n",
      "793/793 [==============================] - 0s 370us/step - loss: 0.4828 - acc: 0.7907 - val_loss: 0.5886 - val_acc: 0.7186\n",
      "Epoch 17/50\n",
      "793/793 [==============================] - 0s 394us/step - loss: 0.5023 - acc: 0.7831 - val_loss: 0.5652 - val_acc: 0.7337\n",
      "Epoch 18/50\n",
      "793/793 [==============================] - 0s 372us/step - loss: 0.4885 - acc: 0.7957 - val_loss: 0.5703 - val_acc: 0.7337\n",
      "Epoch 19/50\n",
      "793/793 [==============================] - 0s 384us/step - loss: 0.4707 - acc: 0.8071 - val_loss: 0.5828 - val_acc: 0.7337\n",
      "Epoch 20/50\n",
      "793/793 [==============================] - 0s 378us/step - loss: 0.4776 - acc: 0.8020 - val_loss: 0.5550 - val_acc: 0.7487\n",
      "Epoch 21/50\n",
      "793/793 [==============================] - 0s 384us/step - loss: 0.4908 - acc: 0.7995 - val_loss: 0.5573 - val_acc: 0.7538\n",
      "Epoch 22/50\n",
      "793/793 [==============================] - 0s 447us/step - loss: 0.4903 - acc: 0.7844 - val_loss: 0.5771 - val_acc: 0.7236\n",
      "Epoch 23/50\n",
      "793/793 [==============================] - 0s 462us/step - loss: 0.4813 - acc: 0.7970 - val_loss: 0.5520 - val_acc: 0.7538\n",
      "Epoch 24/50\n",
      "793/793 [==============================] - 0s 375us/step - loss: 0.4899 - acc: 0.7995 - val_loss: 0.5452 - val_acc: 0.7487\n",
      "Epoch 25/50\n",
      "793/793 [==============================] - 0s 369us/step - loss: 0.4529 - acc: 0.8184 - val_loss: 0.5457 - val_acc: 0.7487\n",
      "Epoch 26/50\n",
      "793/793 [==============================] - 0s 381us/step - loss: 0.4665 - acc: 0.8083 - val_loss: 0.5641 - val_acc: 0.7538\n",
      "Epoch 27/50\n",
      "793/793 [==============================] - 0s 415us/step - loss: 0.4768 - acc: 0.7945 - val_loss: 0.5419 - val_acc: 0.7588\n",
      "Epoch 28/50\n",
      "793/793 [==============================] - 0s 441us/step - loss: 0.4652 - acc: 0.8184 - val_loss: 0.5735 - val_acc: 0.7538\n",
      "Epoch 29/50\n",
      "793/793 [==============================] - 0s 414us/step - loss: 0.4579 - acc: 0.8209 - val_loss: 0.5466 - val_acc: 0.7487\n",
      "Epoch 30/50\n",
      "793/793 [==============================] - 0s 400us/step - loss: 0.4810 - acc: 0.8071 - val_loss: 0.5551 - val_acc: 0.7638\n",
      "Epoch 31/50\n",
      "793/793 [==============================] - 0s 410us/step - loss: 0.4796 - acc: 0.8134 - val_loss: 0.5488 - val_acc: 0.7638\n",
      "Epoch 32/50\n",
      "793/793 [==============================] - 0s 548us/step - loss: 0.4611 - acc: 0.8108 - val_loss: 0.5549 - val_acc: 0.7588\n",
      "Epoch 33/50\n",
      "793/793 [==============================] - 0s 414us/step - loss: 0.4672 - acc: 0.8008 - val_loss: 0.5605 - val_acc: 0.7638\n",
      "Epoch 34/50\n",
      "793/793 [==============================] - 0s 370us/step - loss: 0.4562 - acc: 0.8096 - val_loss: 0.5787 - val_acc: 0.7588\n",
      "Epoch 35/50\n",
      "793/793 [==============================] - 0s 386us/step - loss: 0.4486 - acc: 0.8197 - val_loss: 0.5500 - val_acc: 0.7538\n",
      "Epoch 36/50\n",
      "793/793 [==============================] - 0s 363us/step - loss: 0.4602 - acc: 0.8323 - val_loss: 0.5430 - val_acc: 0.7538\n",
      "Epoch 37/50\n",
      "793/793 [==============================] - 0s 384us/step - loss: 0.4653 - acc: 0.8033 - val_loss: 0.5463 - val_acc: 0.7538\n",
      "Epoch 38/50\n",
      "793/793 [==============================] - 0s 382us/step - loss: 0.4582 - acc: 0.8045 - val_loss: 0.5439 - val_acc: 0.7588\n",
      "Epoch 39/50\n",
      "793/793 [==============================] - 0s 401us/step - loss: 0.4641 - acc: 0.8045 - val_loss: 0.5423 - val_acc: 0.7538\n",
      "Epoch 40/50\n",
      "793/793 [==============================] - 0s 446us/step - loss: 0.4663 - acc: 0.8083 - val_loss: 0.5408 - val_acc: 0.7538\n",
      "Epoch 41/50\n",
      "793/793 [==============================] - 0s 437us/step - loss: 0.4733 - acc: 0.8108 - val_loss: 0.5433 - val_acc: 0.7487\n",
      "Epoch 42/50\n",
      "793/793 [==============================] - 0s 363us/step - loss: 0.4683 - acc: 0.8146 - val_loss: 0.5747 - val_acc: 0.7638\n",
      "Epoch 43/50\n",
      "793/793 [==============================] - 0s 384us/step - loss: 0.4766 - acc: 0.8071 - val_loss: 0.5431 - val_acc: 0.7487\n",
      "Epoch 44/50\n",
      "793/793 [==============================] - 0s 370us/step - loss: 0.4586 - acc: 0.8222 - val_loss: 0.5548 - val_acc: 0.7588\n",
      "Epoch 45/50\n",
      "793/793 [==============================] - 0s 376us/step - loss: 0.4548 - acc: 0.8159 - val_loss: 0.5459 - val_acc: 0.7538\n",
      "Epoch 46/50\n",
      "793/793 [==============================] - 0s 376us/step - loss: 0.4625 - acc: 0.8121 - val_loss: 0.5437 - val_acc: 0.7437\n",
      "Epoch 47/50\n",
      "793/793 [==============================] - 0s 400us/step - loss: 0.4587 - acc: 0.8184 - val_loss: 0.5342 - val_acc: 0.7487\n",
      "Epoch 48/50\n",
      "793/793 [==============================] - 0s 389us/step - loss: 0.4754 - acc: 0.8121 - val_loss: 0.5588 - val_acc: 0.7588\n",
      "Epoch 49/50\n",
      "793/793 [==============================] - 0s 358us/step - loss: 0.4731 - acc: 0.8008 - val_loss: 0.5500 - val_acc: 0.7588\n",
      "Epoch 50/50\n",
      "793/793 [==============================] - 0s 407us/step - loss: 0.4595 - acc: 0.8172 - val_loss: 0.5339 - val_acc: 0.7588\n"
     ]
    }
   ],
   "source": [
    "model.compile(loss='binary_crossentropy', optimizer='Adam', metrics=['accuracy'])\n",
    "train_history = model.fit(x_train, y_train, batch_size = 8, epochs = 50, validation_split = 0.2)"
   ]
  },
  {
   "cell_type": "code",
   "execution_count": 10,
   "metadata": {},
   "outputs": [
    {
     "name": "stdout",
     "output_type": "stream",
     "text": [
      "331/331 [==============================] - 0s 53us/step\n",
      "[0.4407523044826761, 0.8247734137172065]\n"
     ]
    }
   ],
   "source": [
    "scores = model.evaluate(x_test, y_test)\n",
    "print(scores)"
   ]
  },
  {
   "cell_type": "code",
   "execution_count": 11,
   "metadata": {},
   "outputs": [],
   "source": [
    "def show_train_history(train_history, train, validation):\n",
    "    plt.plot(train_history.history[train])\n",
    "    plt.plot(train_history.history[validation])\n",
    "    plt.title('Train History')\n",
    "    plt.ylabel(train)\n",
    "    plt.xlabel('Epoch')\n",
    "    plt.legend([train, validation])\n",
    "    plt.show()"
   ]
  },
  {
   "cell_type": "code",
   "execution_count": 13,
   "metadata": {},
   "outputs": [
    {
     "data": {
      "image/png": "[encoded data removed]",
      "text/plain": [
       "<Figure size 432x288 with 1 Axes>"
      ]
     },
     "metadata": {},
     "output_type": "display_data"
    }
   ],
   "source": [
    "show_train_history(train_history, 'acc', 'val_acc')"
   ]
  },
  {
   "cell_type": "code",
   "execution_count": 14,
   "metadata": {},
   "outputs": [
    {
     "data": {
      "image/png": "[encoded data removed]",
      "text/plain": [
       "<Figure size 432x288 with 1 Axes>"
      ]
     },
     "metadata": {},
     "output_type": "display_data"
    }
   ],
   "source": [
    "show_train_history(train_history, 'loss', 'val_loss')"
   ]
  },
  {
   "cell_type": "code",
   "execution_count": null,
   "metadata": {
    "collapsed": true
   },
   "outputs": [],
   "source": []
  }
 ],
 "metadata": {
  "kernelspec": {
   "display_name": "Python 3",
   "language": "python",
   "name": "python3"
  },
  "language_info": {
   "codemirror_mode": {
    "name": "ipython",
    "version": 3
   },
   "file_extension": ".py",
   "mimetype": "text/x-python",
   "name": "python",
   "nbconvert_exporter": "python",
   "pygments_lexer": "ipython3",
   "version": "3.5.4"
  }
 },
 "nbformat": 4,
 "nbformat_minor": 2
}
