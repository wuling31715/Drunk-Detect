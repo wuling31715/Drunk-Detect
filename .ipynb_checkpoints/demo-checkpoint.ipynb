{
 "cells": [
  {
   "cell_type": "code",
   "execution_count": 1,
   "metadata": {},
   "outputs": [],
   "source": [
    "%matplotlib inline\n",
    "import matplotlib.pyplot as plt\n",
    "import numpy as np\n",
    "import pandas as pd"
   ]
  },
  {
   "cell_type": "code",
   "execution_count": 8,
   "metadata": {},
   "outputs": [],
   "source": [
    "def read_data(drunkfile, normalfile):\n",
    "    drunk = pd.read_csv(drunkfile)\n",
    "    normal = pd.read_csv(normalfile)\n",
    "    data = pd.concat([drunk, normal])\n",
    "    ans_list = [1] * len(drunk) + [0] * len(normal)\n",
    "    return np.array(data[['smile','anger','contempt','disgust','fear','happiness','neutral','sadness','surprise','eyeOccluded']].values), np.array(ans_list)"
   ]
  },
  {
   "cell_type": "code",
   "execution_count": 9,
   "metadata": {},
   "outputs": [
    {
     "name": "stdout",
     "output_type": "stream",
     "text": [
      "(1323, 10)\n",
      "(1323,)\n"
     ]
    }
   ],
   "source": [
    "x_data, y_data = read_data(\"model/drunk.csv\", \"model/normal.csv\")\n",
    "print(x_data.shape)\n",
    "print(y_data.shape)"
   ]
  },
  {
   "cell_type": "code",
   "execution_count": 13,
   "metadata": {},
   "outputs": [],
   "source": [
    "x_data[x_data == True] = 1\n",
    "x_data[x_data == False] = 0"
   ]
  },
  {
   "cell_type": "code",
   "execution_count": 14,
   "metadata": {},
   "outputs": [],
   "source": [
    "from sklearn.utils import shuffle\n",
    "(x_data, y_data) = shuffle(x_data, y_data)"
   ]
  },
  {
   "cell_type": "code",
   "execution_count": 15,
   "metadata": {},
   "outputs": [
    {
     "name": "stdout",
     "output_type": "stream",
     "text": [
      "(992, 10)\n",
      "(331, 10)\n",
      "(992,)\n",
      "(331,)\n"
     ]
    }
   ],
   "source": [
    "from sklearn.model_selection import train_test_split\n",
    "x_train, x_test, y_train, y_test = train_test_split(x_data, y_data)\n",
    "print(x_train.shape)\n",
    "print(x_test.shape)\n",
    "print(y_train.shape)\n",
    "print(y_test.shape)"
   ]
  },
  {
   "cell_type": "code",
   "execution_count": 81,
   "metadata": {
    "scrolled": false
   },
   "outputs": [
    {
     "name": "stdout",
     "output_type": "stream",
     "text": [
      "_________________________________________________________________\n",
      "Layer (type)                 Output Shape              Param #   \n",
      "=================================================================\n",
      "dense_91 (Dense)             (None, 10)                110       \n",
      "_________________________________________________________________\n",
      "dropout_73 (Dropout)         (None, 10)                0         \n",
      "_________________________________________________________________\n",
      "dense_92 (Dense)             (None, 64)                704       \n",
      "_________________________________________________________________\n",
      "dropout_74 (Dropout)         (None, 64)                0         \n",
      "_________________________________________________________________\n",
      "dense_93 (Dense)             (None, 8)                 520       \n",
      "_________________________________________________________________\n",
      "dropout_75 (Dropout)         (None, 8)                 0         \n",
      "_________________________________________________________________\n",
      "dense_94 (Dense)             (None, 1)                 9         \n",
      "=================================================================\n",
      "Total params: 1,343\n",
      "Trainable params: 1,343\n",
      "Non-trainable params: 0\n",
      "_________________________________________________________________\n"
     ]
    }
   ],
   "source": [
    "from keras.models import Sequential\n",
    "from keras.layers import Dense, Activation, Dropout\n",
    "model = Sequential()\n",
    "model.add(Dense(input_dim = x_train.shape[1], units = 10, activation = 'relu'))\n",
    "model.add(Dropout(0.25))\n",
    "model.add(Dense(units = 64, activation = 'relu'))\n",
    "model.add(Dropout(0.25))\n",
    "model.add(Dense(units = 8, activation = 'relu'))\n",
    "model.add(Dropout(0.25))\n",
    "model.add(Dense(units = 1, activation = 'sigmoid'))\n",
    "model.summary()"
   ]
  },
  {
   "cell_type": "code",
   "execution_count": 82,
   "metadata": {},
   "outputs": [
    {
     "name": "stdout",
     "output_type": "stream",
     "text": [
      "Train on 793 samples, validate on 199 samples\n",
      "Epoch 1/50\n",
      "793/793 [==============================] - 2s 2ms/step - loss: 0.6512 - acc: 0.6381 - val_loss: 0.6045 - val_acc: 0.6834\n",
      "Epoch 2/50\n",
      "793/793 [==============================] - 0s 488us/step - loss: 0.6176 - acc: 0.6494 - val_loss: 0.5827 - val_acc: 0.6834\n",
      "Epoch 3/50\n",
      "793/793 [==============================] - 0s 617us/step - loss: 0.6166 - acc: 0.6494 - val_loss: 0.5738 - val_acc: 0.6834\n",
      "Epoch 4/50\n",
      "793/793 [==============================] - 0s 452us/step - loss: 0.6058 - acc: 0.6494 - val_loss: 0.5692 - val_acc: 0.6935\n",
      "Epoch 5/50\n",
      "793/793 [==============================] - 0s 418us/step - loss: 0.6135 - acc: 0.6759 - val_loss: 0.5662 - val_acc: 0.7236\n",
      "Epoch 6/50\n",
      "793/793 [==============================] - 0s 420us/step - loss: 0.5818 - acc: 0.6885 - val_loss: 0.5477 - val_acc: 0.7236\n",
      "Epoch 7/50\n",
      "793/793 [==============================] - 0s 418us/step - loss: 0.5910 - acc: 0.6961 - val_loss: 0.5403 - val_acc: 0.7588\n",
      "Epoch 8/50\n",
      "793/793 [==============================] - 0s 425us/step - loss: 0.5805 - acc: 0.7074 - val_loss: 0.5296 - val_acc: 0.7588\n",
      "Epoch 9/50\n",
      "793/793 [==============================] - 0s 430us/step - loss: 0.5704 - acc: 0.7264 - val_loss: 0.5121 - val_acc: 0.7739\n",
      "Epoch 10/50\n",
      "793/793 [==============================] - 0s 418us/step - loss: 0.5528 - acc: 0.7238 - val_loss: 0.5011 - val_acc: 0.8090\n",
      "Epoch 11/50\n",
      "793/793 [==============================] - 0s 511us/step - loss: 0.5380 - acc: 0.7377 - val_loss: 0.4880 - val_acc: 0.8191\n",
      "Epoch 12/50\n",
      "793/793 [==============================] - 0s 587us/step - loss: 0.5441 - acc: 0.7377 - val_loss: 0.4818 - val_acc: 0.8141\n",
      "Epoch 13/50\n",
      "793/793 [==============================] - 0s 537us/step - loss: 0.5383 - acc: 0.7276 - val_loss: 0.4768 - val_acc: 0.8191\n",
      "Epoch 14/50\n",
      "793/793 [==============================] - 0s 444us/step - loss: 0.5259 - acc: 0.7453 - val_loss: 0.4673 - val_acc: 0.8392\n",
      "Epoch 15/50\n",
      "793/793 [==============================] - 0s 425us/step - loss: 0.5186 - acc: 0.7642 - val_loss: 0.4631 - val_acc: 0.8141\n",
      "Epoch 16/50\n",
      "793/793 [==============================] - 0s 423us/step - loss: 0.5368 - acc: 0.7440 - val_loss: 0.4634 - val_acc: 0.8392\n",
      "Epoch 17/50\n",
      "793/793 [==============================] - 0s 429us/step - loss: 0.5239 - acc: 0.7579 - val_loss: 0.4551 - val_acc: 0.8291\n",
      "Epoch 18/50\n",
      "793/793 [==============================] - 0s 440us/step - loss: 0.5290 - acc: 0.7566 - val_loss: 0.4564 - val_acc: 0.8392\n",
      "Epoch 19/50\n",
      "793/793 [==============================] - 0s 446us/step - loss: 0.5113 - acc: 0.7730 - val_loss: 0.4544 - val_acc: 0.8342\n",
      "Epoch 20/50\n",
      "793/793 [==============================] - 0s 579us/step - loss: 0.5059 - acc: 0.7705 - val_loss: 0.4512 - val_acc: 0.8291\n",
      "Epoch 21/50\n",
      "793/793 [==============================] - 0s 468us/step - loss: 0.5259 - acc: 0.7364 - val_loss: 0.4641 - val_acc: 0.8342\n",
      "Epoch 22/50\n",
      "793/793 [==============================] - 0s 424us/step - loss: 0.4984 - acc: 0.7743 - val_loss: 0.4462 - val_acc: 0.8392\n",
      "Epoch 23/50\n",
      "793/793 [==============================] - 0s 449us/step - loss: 0.5033 - acc: 0.7844 - val_loss: 0.4367 - val_acc: 0.8442\n",
      "Epoch 24/50\n",
      "793/793 [==============================] - 0s 456us/step - loss: 0.4988 - acc: 0.7957 - val_loss: 0.4366 - val_acc: 0.8442\n",
      "Epoch 25/50\n",
      "793/793 [==============================] - 0s 469us/step - loss: 0.5057 - acc: 0.7907 - val_loss: 0.4375 - val_acc: 0.8392\n",
      "Epoch 26/50\n",
      "793/793 [==============================] - 0s 474us/step - loss: 0.4989 - acc: 0.7869 - val_loss: 0.4310 - val_acc: 0.8442\n",
      "Epoch 27/50\n",
      "793/793 [==============================] - 0s 445us/step - loss: 0.5015 - acc: 0.7894 - val_loss: 0.4311 - val_acc: 0.8492\n",
      "Epoch 28/50\n",
      "793/793 [==============================] - 0s 488us/step - loss: 0.4838 - acc: 0.7894 - val_loss: 0.4222 - val_acc: 0.8492\n",
      "Epoch 29/50\n",
      "793/793 [==============================] - 0s 624us/step - loss: 0.5077 - acc: 0.7869 - val_loss: 0.4392 - val_acc: 0.8392\n",
      "Epoch 30/50\n",
      "793/793 [==============================] - 0s 480us/step - loss: 0.4870 - acc: 0.7945 - val_loss: 0.4254 - val_acc: 0.8492\n",
      "Epoch 31/50\n",
      "793/793 [==============================] - 0s 456us/step - loss: 0.5071 - acc: 0.7932 - val_loss: 0.4282 - val_acc: 0.8492\n",
      "Epoch 32/50\n",
      "793/793 [==============================] - 0s 447us/step - loss: 0.4930 - acc: 0.7970 - val_loss: 0.4520 - val_acc: 0.8392\n",
      "Epoch 33/50\n",
      "793/793 [==============================] - 0s 555us/step - loss: 0.4967 - acc: 0.7945 - val_loss: 0.4284 - val_acc: 0.8442\n",
      "Epoch 34/50\n",
      "793/793 [==============================] - 0s 530us/step - loss: 0.4923 - acc: 0.7995 - val_loss: 0.4238 - val_acc: 0.8442\n",
      "Epoch 35/50\n",
      "793/793 [==============================] - 0s 481us/step - loss: 0.4952 - acc: 0.7894 - val_loss: 0.4287 - val_acc: 0.8442\n",
      "Epoch 36/50\n",
      "793/793 [==============================] - 1s 819us/step - loss: 0.4955 - acc: 0.7995 - val_loss: 0.4214 - val_acc: 0.8442\n",
      "Epoch 37/50\n",
      "793/793 [==============================] - 1s 646us/step - loss: 0.4909 - acc: 0.7932 - val_loss: 0.4234 - val_acc: 0.8543\n",
      "Epoch 38/50\n",
      "793/793 [==============================] - 1s 631us/step - loss: 0.4832 - acc: 0.7907 - val_loss: 0.4279 - val_acc: 0.8492\n",
      "Epoch 39/50\n",
      "793/793 [==============================] - 0s 570us/step - loss: 0.5020 - acc: 0.7869 - val_loss: 0.4286 - val_acc: 0.8543\n",
      "Epoch 40/50\n",
      "793/793 [==============================] - 0s 540us/step - loss: 0.4930 - acc: 0.8020 - val_loss: 0.4244 - val_acc: 0.8392\n",
      "Epoch 41/50\n",
      "793/793 [==============================] - 0s 612us/step - loss: 0.4994 - acc: 0.7768 - val_loss: 0.4285 - val_acc: 0.8543\n",
      "Epoch 42/50\n",
      "793/793 [==============================] - 0s 542us/step - loss: 0.4888 - acc: 0.7957 - val_loss: 0.4254 - val_acc: 0.8492\n",
      "Epoch 43/50\n",
      "793/793 [==============================] - 0s 564us/step - loss: 0.5026 - acc: 0.7957 - val_loss: 0.4222 - val_acc: 0.8392\n",
      "Epoch 44/50\n",
      "793/793 [==============================] - 0s 535us/step - loss: 0.4827 - acc: 0.8058 - val_loss: 0.4200 - val_acc: 0.8442\n",
      "Epoch 45/50\n",
      "793/793 [==============================] - 0s 574us/step - loss: 0.4847 - acc: 0.7982 - val_loss: 0.4376 - val_acc: 0.8442\n",
      "Epoch 46/50\n",
      "793/793 [==============================] - 0s 618us/step - loss: 0.4820 - acc: 0.7869 - val_loss: 0.4398 - val_acc: 0.8392\n",
      "Epoch 47/50\n",
      "793/793 [==============================] - 0s 630us/step - loss: 0.4906 - acc: 0.7919 - val_loss: 0.4328 - val_acc: 0.8442\n",
      "Epoch 48/50\n",
      "793/793 [==============================] - 0s 629us/step - loss: 0.5057 - acc: 0.7932 - val_loss: 0.4206 - val_acc: 0.8442\n",
      "Epoch 49/50\n",
      "793/793 [==============================] - 0s 617us/step - loss: 0.4917 - acc: 0.7995 - val_loss: 0.4237 - val_acc: 0.8492\n",
      "Epoch 50/50\n",
      "793/793 [==============================] - 0s 607us/step - loss: 0.4786 - acc: 0.8020 - val_loss: 0.4245 - val_acc: 0.8492\n"
     ]
    }
   ],
   "source": [
    "from keras.callbacks import ModelCheckpoint\n",
    "model.compile(loss='binary_crossentropy', optimizer='Adam', metrics=['accuracy'])\n",
    "train_history = model.fit(x_train, y_train, batch_size = 8, epochs = 50, validation_split = 0.2)"
   ]
  },
  {
   "cell_type": "code",
   "execution_count": 83,
   "metadata": {},
   "outputs": [
    {
     "name": "stdout",
     "output_type": "stream",
     "text": [
      "331/331 [==============================] - 0s 107us/step\n",
      "[0.4784859658368044, 0.8036253774634301]\n"
     ]
    }
   ],
   "source": [
    "scores = model.evaluate(x_test, y_test)\n",
    "print(scores)"
   ]
  },
  {
   "cell_type": "code",
   "execution_count": 84,
   "metadata": {},
   "outputs": [],
   "source": [
    "def show_train_history(train_history, train, validation):\n",
    "    plt.plot(train_history.history[train])\n",
    "    plt.plot(train_history.history[validation])\n",
    "    plt.title('Train History')\n",
    "    plt.ylabel(train)\n",
    "    plt.xlabel('Epoch')\n",
    "    plt.legend([train, validation])\n",
    "    plt.show()"
   ]
  },
  {
   "cell_type": "code",
   "execution_count": 85,
   "metadata": {},
   "outputs": [
    {
     "data": {
      "image/png": "[encoded data removed]",
      "text/plain": [
       "<Figure size 432x288 with 1 Axes>"
      ]
     },
     "metadata": {},
     "output_type": "display_data"
    }
   ],
   "source": [
    "show_train_history(train_history, 'acc', 'val_acc')"
   ]
  },
  {
   "cell_type": "code",
   "execution_count": 86,
   "metadata": {},
   "outputs": [
    {
     "data": {
      "image/png": "[encoded data removed]",
      "text/plain": [
       "<Figure size 432x288 with 1 Axes>"
      ]
     },
     "metadata": {},
     "output_type": "display_data"
    }
   ],
   "source": [
    "show_train_history(train_history, 'loss', 'val_loss')"
   ]
  },
  {
   "cell_type": "code",
   "execution_count": null,
   "metadata": {},
   "outputs": [],
   "source": []
  }
 ],
 "metadata": {
  "kernelspec": {
   "display_name": "Python 3",
   "language": "python",
   "name": "python3"
  },
  "language_info": {
   "codemirror_mode": {
    "name": "ipython",
    "version": 3
   },
   "file_extension": ".py",
   "mimetype": "text/x-python",
   "name": "python",
   "nbconvert_exporter": "python",
   "pygments_lexer": "ipython3",
   "version": "3.5.4"
  }
 },
 "nbformat": 4,
 "nbformat_minor": 2
}
