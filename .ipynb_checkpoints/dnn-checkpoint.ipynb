{
 "cells": [
  {
   "cell_type": "code",
   "execution_count": 1,
   "metadata": {},
   "outputs": [],
   "source": [
    "%matplotlib inline\n",
    "import matplotlib.pyplot as plt\n",
    "import numpy as np\n",
    "import pandas as pd\n",
    "# import sys\n",
    "# from keras import optimizers\n",
    "# from keras.callbacks import ModelCheckpoint\n",
    "# from keras.callbacks import EarlyStopping"
   ]
  },
  {
   "cell_type": "code",
   "execution_count": 8,
   "metadata": {},
   "outputs": [],
   "source": [
    "def read_data(drunkfile, normalfile):\n",
    "    drunk = pd.read_csv(drunkfile)\n",
    "    normal = pd.read_csv(normalfile)\n",
    "    data = pd.concat([drunk, normal])\n",
    "    ans_list = [1] * len(drunk) + [0] * len(normal)\n",
    "    return np.array(data[['smile','anger','contempt','disgust','fear','happiness','neutral','sadness','surprise','eyeOccluded']].values), np.array(ans_list)"
   ]
  },
  {
   "cell_type": "code",
   "execution_count": 9,
   "metadata": {},
   "outputs": [
    {
     "name": "stdout",
     "output_type": "stream",
     "text": [
      "(1323, 10)\n",
      "(1323,)\n"
     ]
    }
   ],
   "source": [
    "x_data, y_data = read_data(\"model/drunk.csv\", \"model/normal.csv\")\n",
    "print(x_data.shape)\n",
    "print(y_data.shape)"
   ]
  },
  {
   "cell_type": "code",
   "execution_count": 13,
   "metadata": {},
   "outputs": [],
   "source": [
    "x_data[x_data == True] = 1\n",
    "x_data[x_data == False] = 0"
   ]
  },
  {
   "cell_type": "code",
   "execution_count": 14,
   "metadata": {},
   "outputs": [],
   "source": [
    "from sklearn.utils import shuffle\n",
    "(x_data, y_data) = shuffle(x_data, y_data)"
   ]
  },
  {
   "cell_type": "code",
   "execution_count": 15,
   "metadata": {},
   "outputs": [
    {
     "name": "stdout",
     "output_type": "stream",
     "text": [
      "(992, 10)\n",
      "(331, 10)\n",
      "(992,)\n",
      "(331,)\n"
     ]
    }
   ],
   "source": [
    "from sklearn.model_selection import train_test_split\n",
    "x_train, x_test, y_train, y_test = train_test_split(x_data, y_data)\n",
    "print(x_train.shape)\n",
    "print(x_test.shape)\n",
    "print(y_train.shape)\n",
    "print(y_test.shape)"
   ]
  },
  {
   "cell_type": "code",
   "execution_count": 36,
   "metadata": {
    "scrolled": false
   },
   "outputs": [
    {
     "name": "stdout",
     "output_type": "stream",
     "text": [
      "_________________________________________________________________\n",
      "Layer (type)                 Output Shape              Param #   \n",
      "=================================================================\n",
      "dense_29 (Dense)             (None, 10)                110       \n",
      "_________________________________________________________________\n",
      "dropout_24 (Dropout)         (None, 10)                0         \n",
      "_________________________________________________________________\n",
      "dense_30 (Dense)             (None, 64)                704       \n",
      "_________________________________________________________________\n",
      "dropout_25 (Dropout)         (None, 64)                0         \n",
      "_________________________________________________________________\n",
      "dense_31 (Dense)             (None, 16)                1040      \n",
      "_________________________________________________________________\n",
      "dropout_26 (Dropout)         (None, 16)                0         \n",
      "_________________________________________________________________\n",
      "dense_32 (Dense)             (None, 4)                 68        \n",
      "_________________________________________________________________\n",
      "dropout_27 (Dropout)         (None, 4)                 0         \n",
      "_________________________________________________________________\n",
      "dense_33 (Dense)             (None, 1)                 5         \n",
      "=================================================================\n",
      "Total params: 1,927\n",
      "Trainable params: 1,927\n",
      "Non-trainable params: 0\n",
      "_________________________________________________________________\n"
     ]
    }
   ],
   "source": [
    "from keras.models import Sequential\n",
    "from keras.layers import Dense, Activation, Dropout\n",
    "model = Sequential()\n",
    "model.add(Dense(input_dim = x_train.shape[1], units = 10, activation = 'relu'))\n",
    "model.add(Dropout(0.25))\n",
    "model.add(Dense(units = 64, activation = 'relu'))\n",
    "model.add(Dropout(0.25))\n",
    "model.add(Dense(units = 16, activation = 'relu'))\n",
    "model.add(Dropout(0.25))\n",
    "model.add(Dense(units = 4, activation = 'relu'))\n",
    "model.add(Dropout(0.25))\n",
    "model.add(Dense(units = 1, activation = 'sigmoid'))\n",
    "model.summary()"
   ]
  },
  {
   "cell_type": "code",
   "execution_count": 37,
   "metadata": {},
   "outputs": [
    {
     "name": "stdout",
     "output_type": "stream",
     "text": [
      "Train on 793 samples, validate on 199 samples\n",
      "Epoch 1/50\n",
      "793/793 [==============================] - 1s 2ms/step - loss: 0.6830 - acc: 0.6406 - val_loss: 0.6611 - val_acc: 0.6834\n",
      "Epoch 2/50\n",
      "793/793 [==============================] - 0s 476us/step - loss: 0.6560 - acc: 0.6482 - val_loss: 0.6162 - val_acc: 0.6834\n",
      "Epoch 3/50\n",
      "793/793 [==============================] - 0s 401us/step - loss: 0.6345 - acc: 0.6507 - val_loss: 0.5895 - val_acc: 0.6834\n",
      "Epoch 4/50\n",
      "793/793 [==============================] - 0s 412us/step - loss: 0.6226 - acc: 0.6570 - val_loss: 0.5700 - val_acc: 0.7286\n",
      "Epoch 5/50\n",
      "793/793 [==============================] - 0s 404us/step - loss: 0.5925 - acc: 0.7201 - val_loss: 0.5376 - val_acc: 0.7538\n",
      "Epoch 6/50\n",
      "793/793 [==============================] - 0s 500us/step - loss: 0.5728 - acc: 0.7377 - val_loss: 0.5115 - val_acc: 0.7789\n",
      "Epoch 7/50\n",
      "793/793 [==============================] - 0s 454us/step - loss: 0.5622 - acc: 0.7591 - val_loss: 0.4908 - val_acc: 0.8090\n",
      "Epoch 8/50\n",
      "793/793 [==============================] - 0s 606us/step - loss: 0.5420 - acc: 0.7591 - val_loss: 0.4834 - val_acc: 0.8191\n",
      "Epoch 9/50\n",
      "793/793 [==============================] - 0s 470us/step - loss: 0.5429 - acc: 0.7629 - val_loss: 0.4753 - val_acc: 0.8040\n",
      "Epoch 10/50\n",
      "793/793 [==============================] - 0s 412us/step - loss: 0.5338 - acc: 0.7856 - val_loss: 0.4718 - val_acc: 0.8040\n",
      "Epoch 11/50\n",
      "793/793 [==============================] - 0s 416us/step - loss: 0.5433 - acc: 0.7642 - val_loss: 0.4615 - val_acc: 0.8342\n",
      "Epoch 12/50\n",
      "793/793 [==============================] - 0s 422us/step - loss: 0.5145 - acc: 0.7768 - val_loss: 0.4591 - val_acc: 0.8241\n",
      "Epoch 13/50\n",
      "793/793 [==============================] - 0s 438us/step - loss: 0.5227 - acc: 0.7793 - val_loss: 0.4826 - val_acc: 0.8342\n",
      "Epoch 14/50\n",
      "793/793 [==============================] - 0s 491us/step - loss: 0.5370 - acc: 0.7718 - val_loss: 0.4574 - val_acc: 0.8342\n",
      "Epoch 15/50\n",
      "793/793 [==============================] - 0s 460us/step - loss: 0.5020 - acc: 0.7793 - val_loss: 0.4470 - val_acc: 0.8291\n",
      "Epoch 16/50\n",
      "793/793 [==============================] - 0s 441us/step - loss: 0.5063 - acc: 0.7919 - val_loss: 0.4416 - val_acc: 0.8442\n",
      "Epoch 17/50\n",
      "793/793 [==============================] - 0s 438us/step - loss: 0.4968 - acc: 0.7907 - val_loss: 0.4327 - val_acc: 0.8392\n",
      "Epoch 18/50\n",
      "793/793 [==============================] - 0s 520us/step - loss: 0.5239 - acc: 0.7856 - val_loss: 0.4402 - val_acc: 0.8392\n",
      "Epoch 19/50\n",
      "793/793 [==============================] - 0s 471us/step - loss: 0.5156 - acc: 0.7919 - val_loss: 0.4513 - val_acc: 0.8342\n",
      "Epoch 20/50\n",
      "793/793 [==============================] - 0s 414us/step - loss: 0.5113 - acc: 0.7919 - val_loss: 0.4413 - val_acc: 0.8392\n",
      "Epoch 21/50\n",
      "793/793 [==============================] - 0s 434us/step - loss: 0.5067 - acc: 0.7869 - val_loss: 0.4380 - val_acc: 0.8392\n",
      "Epoch 22/50\n",
      "793/793 [==============================] - 0s 499us/step - loss: 0.5214 - acc: 0.7919 - val_loss: 0.4405 - val_acc: 0.8392\n",
      "Epoch 23/50\n",
      "793/793 [==============================] - 0s 462us/step - loss: 0.5116 - acc: 0.7793 - val_loss: 0.4605 - val_acc: 0.8442\n",
      "Epoch 24/50\n",
      "793/793 [==============================] - 0s 413us/step - loss: 0.4983 - acc: 0.7970 - val_loss: 0.4351 - val_acc: 0.8442\n",
      "Epoch 25/50\n",
      "793/793 [==============================] - 0s 444us/step - loss: 0.5173 - acc: 0.7844 - val_loss: 0.4364 - val_acc: 0.8492\n",
      "Epoch 26/50\n",
      "793/793 [==============================] - 0s 458us/step - loss: 0.5068 - acc: 0.7831 - val_loss: 0.4400 - val_acc: 0.8442\n",
      "Epoch 27/50\n",
      "793/793 [==============================] - 0s 541us/step - loss: 0.4823 - acc: 0.8033 - val_loss: 0.4293 - val_acc: 0.8492\n",
      "Epoch 28/50\n",
      "793/793 [==============================] - 0s 442us/step - loss: 0.5018 - acc: 0.7919 - val_loss: 0.4360 - val_acc: 0.8442\n",
      "Epoch 29/50\n",
      "793/793 [==============================] - 0s 431us/step - loss: 0.4995 - acc: 0.7831 - val_loss: 0.4422 - val_acc: 0.8442\n",
      "Epoch 30/50\n",
      "793/793 [==============================] - 0s 448us/step - loss: 0.5197 - acc: 0.7844 - val_loss: 0.4380 - val_acc: 0.8442\n",
      "Epoch 31/50\n",
      "793/793 [==============================] - 0s 554us/step - loss: 0.5023 - acc: 0.7970 - val_loss: 0.4422 - val_acc: 0.8442\n",
      "Epoch 32/50\n",
      "793/793 [==============================] - 0s 548us/step - loss: 0.5086 - acc: 0.7957 - val_loss: 0.4397 - val_acc: 0.8392\n",
      "Epoch 33/50\n",
      "793/793 [==============================] - 0s 475us/step - loss: 0.5112 - acc: 0.7982 - val_loss: 0.4376 - val_acc: 0.8392\n",
      "Epoch 34/50\n",
      "793/793 [==============================] - 0s 443us/step - loss: 0.5004 - acc: 0.8020 - val_loss: 0.4320 - val_acc: 0.8392\n",
      "Epoch 35/50\n",
      "793/793 [==============================] - 0s 495us/step - loss: 0.5109 - acc: 0.7970 - val_loss: 0.4311 - val_acc: 0.8392\n",
      "Epoch 36/50\n",
      "793/793 [==============================] - 0s 510us/step - loss: 0.5064 - acc: 0.7818 - val_loss: 0.4501 - val_acc: 0.8342\n",
      "Epoch 37/50\n",
      "793/793 [==============================] - 0s 434us/step - loss: 0.5210 - acc: 0.7881 - val_loss: 0.4382 - val_acc: 0.8492\n",
      "Epoch 38/50\n",
      "793/793 [==============================] - 0s 471us/step - loss: 0.4860 - acc: 0.7894 - val_loss: 0.4297 - val_acc: 0.8442\n",
      "Epoch 39/50\n",
      "793/793 [==============================] - 0s 466us/step - loss: 0.5000 - acc: 0.7957 - val_loss: 0.4360 - val_acc: 0.8492\n",
      "Epoch 40/50\n",
      "793/793 [==============================] - 0s 520us/step - loss: 0.5058 - acc: 0.7945 - val_loss: 0.4489 - val_acc: 0.8492\n",
      "Epoch 41/50\n",
      "793/793 [==============================] - 0s 528us/step - loss: 0.4912 - acc: 0.8045 - val_loss: 0.4314 - val_acc: 0.8392\n",
      "Epoch 42/50\n",
      "793/793 [==============================] - 0s 542us/step - loss: 0.4726 - acc: 0.7932 - val_loss: 0.4496 - val_acc: 0.8241\n",
      "Epoch 43/50\n",
      "793/793 [==============================] - 0s 435us/step - loss: 0.4947 - acc: 0.7982 - val_loss: 0.4281 - val_acc: 0.8492\n",
      "Epoch 44/50\n",
      "793/793 [==============================] - 0s 415us/step - loss: 0.4948 - acc: 0.7919 - val_loss: 0.4242 - val_acc: 0.8442\n",
      "Epoch 45/50\n",
      "793/793 [==============================] - 0s 447us/step - loss: 0.4966 - acc: 0.8083 - val_loss: 0.4287 - val_acc: 0.8492\n",
      "Epoch 46/50\n",
      "793/793 [==============================] - 0s 399us/step - loss: 0.5010 - acc: 0.7856 - val_loss: 0.4282 - val_acc: 0.8492\n",
      "Epoch 47/50\n",
      "793/793 [==============================] - 0s 405us/step - loss: 0.5147 - acc: 0.7831 - val_loss: 0.4326 - val_acc: 0.8492\n",
      "Epoch 48/50\n",
      "793/793 [==============================] - 0s 410us/step - loss: 0.4847 - acc: 0.8008 - val_loss: 0.4274 - val_acc: 0.8492\n",
      "Epoch 49/50\n",
      "793/793 [==============================] - 0s 438us/step - loss: 0.4902 - acc: 0.7957 - val_loss: 0.4247 - val_acc: 0.8442\n",
      "Epoch 50/50\n",
      "793/793 [==============================] - 0s 453us/step - loss: 0.4808 - acc: 0.8121 - val_loss: 0.4280 - val_acc: 0.8392\n"
     ]
    }
   ],
   "source": [
    "model.compile(loss='binary_crossentropy', optimizer='Adam', metrics=['accuracy'])\n",
    "train_history = model.fit(x_train, y_train, batch_size = 8, epochs = 50, validation_split = 0.2)"
   ]
  },
  {
   "cell_type": "code",
   "execution_count": 38,
   "metadata": {},
   "outputs": [
    {
     "name": "stdout",
     "output_type": "stream",
     "text": [
      "331/331 [==============================] - 0s 75us/step\n",
      "[0.4721888504539732, 0.8006042294271764]\n"
     ]
    }
   ],
   "source": [
    "scores = model.evaluate(x_test, y_test)\n",
    "print(scores)"
   ]
  },
  {
   "cell_type": "code",
   "execution_count": 39,
   "metadata": {},
   "outputs": [],
   "source": [
    "def show_train_history(train_history, train, validation):\n",
    "    plt.plot(train_history.history[train])\n",
    "    plt.plot(train_history.history[validation])\n",
    "    plt.title('Train History')\n",
    "    plt.ylabel(train)\n",
    "    plt.xlabel('Epoch')\n",
    "    plt.legend([train, validation])\n",
    "    plt.show()"
   ]
  },
  {
   "cell_type": "code",
   "execution_count": 40,
   "metadata": {},
   "outputs": [
    {
     "data": {
      "image/png": "[encoded data removed]",
      "text/plain": [
       "<Figure size 432x288 with 1 Axes>"
      ]
     },
     "metadata": {},
     "output_type": "display_data"
    }
   ],
   "source": [
    "show_train_history(train_history, 'acc', 'val_acc')"
   ]
  },
  {
   "cell_type": "code",
   "execution_count": 41,
   "metadata": {},
   "outputs": [
    {
     "data": {
      "image/png": "[encoded data removed]",
      "text/plain": [
       "<Figure size 432x288 with 1 Axes>"
      ]
     },
     "metadata": {},
     "output_type": "display_data"
    }
   ],
   "source": [
    "show_train_history(train_history, 'loss', 'val_loss')"
   ]
  },
  {
   "cell_type": "code",
   "execution_count": null,
   "metadata": {},
   "outputs": [],
   "source": []
  }
 ],
 "metadata": {
  "kernelspec": {
   "display_name": "Python 3",
   "language": "python",
   "name": "python3"
  },
  "language_info": {
   "codemirror_mode": {
    "name": "ipython",
    "version": 3
   },
   "file_extension": ".py",
   "mimetype": "text/x-python",
   "name": "python",
   "nbconvert_exporter": "python",
   "pygments_lexer": "ipython3",
   "version": "3.5.4"
  }
 },
 "nbformat": 4,
 "nbformat_minor": 2
}
